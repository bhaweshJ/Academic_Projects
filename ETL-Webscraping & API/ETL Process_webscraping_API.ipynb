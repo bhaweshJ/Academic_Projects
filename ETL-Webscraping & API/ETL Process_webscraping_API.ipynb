{
 "cells": [
  {
   "cell_type": "code",
   "execution_count": 1,
   "id": "7b5684c3",
   "metadata": {},
   "outputs": [
    {
     "ename": "SyntaxError",
     "evalue": "invalid syntax (Temp/ipykernel_25960/2556456231.py, line 3)",
     "output_type": "error",
     "traceback": [
      "\u001b[1;36m  File \u001b[1;32m\"C:\\Users\\bhawe\\AppData\\Local\\Temp/ipykernel_25960/2556456231.py\"\u001b[1;36m, line \u001b[1;32m3\u001b[0m\n\u001b[1;33m    In this final part you will:\u001b[0m\n\u001b[1;37m       ^\u001b[0m\n\u001b[1;31mSyntaxError\u001b[0m\u001b[1;31m:\u001b[0m invalid syntax\n"
     ]
    }
   ],
   "source": [
    "## Objectives\n",
    "\n",
    "In this final part you will:\n",
    "\n",
    "*   Run the ETL process\n",
    "*   Extract bank and market cap data from the JSON file `bank_market_cap.json`\n",
    "*   Transform the market cap currency using the exchange rate data\n",
    "*   Load the transformed data into a seperate CSV"
   ]
  },
  {
   "cell_type": "code",
   "execution_count": 2,
   "id": "c587d4cb",
   "metadata": {},
   "outputs": [],
   "source": [
    "import glob\n",
    "import pandas as pd\n",
    "from datetime import datetime"
   ]
  },
  {
   "cell_type": "code",
   "execution_count": 16,
   "id": "58d4e291",
   "metadata": {},
   "outputs": [],
   "source": [
    "def extract_from_json(file_to_process):\n",
    "    dataframe = pd.read_json(file_to_process)\n",
    "    return dataframe"
   ]
  },
  {
   "cell_type": "code",
   "execution_count": 46,
   "id": "eb492106",
   "metadata": {
    "scrolled": true
   },
   "outputs": [],
   "source": [
    "target_file=\"bank_market_cap_gbp.csv\""
   ]
  },
  {
   "cell_type": "code",
   "execution_count": 18,
   "id": "2b31cd01",
   "metadata": {},
   "outputs": [],
   "source": [
    "def extract():\n",
    "    extracted_data=pd.DataFrame(columns=['Name','Market Cap (US$ Billion)'])\n",
    "    for jsonfile in glob.glob(\"*.json\"):\n",
    "        extracted_data = extracted_data.append(extract_from_json(jsonfile), ignore_index=True)\n",
    "    \n",
    "    return extracted_data"
   ]
  },
  {
   "cell_type": "code",
   "execution_count": 19,
   "id": "94d42b83",
   "metadata": {},
   "outputs": [
    {
     "data": {
      "text/html": [
       "<div>\n",
       "<style scoped>\n",
       "    .dataframe tbody tr th:only-of-type {\n",
       "        vertical-align: middle;\n",
       "    }\n",
       "\n",
       "    .dataframe tbody tr th {\n",
       "        vertical-align: top;\n",
       "    }\n",
       "\n",
       "    .dataframe thead th {\n",
       "        text-align: right;\n",
       "    }\n",
       "</style>\n",
       "<table border=\"1\" class=\"dataframe\">\n",
       "  <thead>\n",
       "    <tr style=\"text-align: right;\">\n",
       "      <th></th>\n",
       "      <th>Name</th>\n",
       "      <th>Market Cap (US$ Billion)</th>\n",
       "    </tr>\n",
       "  </thead>\n",
       "  <tbody>\n",
       "    <tr>\n",
       "      <th>0</th>\n",
       "      <td>JPMorgan Chase\\n</td>\n",
       "      <td>488.470</td>\n",
       "    </tr>\n",
       "    <tr>\n",
       "      <th>1</th>\n",
       "      <td>Bank of America\\n</td>\n",
       "      <td>379.250</td>\n",
       "    </tr>\n",
       "    <tr>\n",
       "      <th>2</th>\n",
       "      <td>Industrial and Commercial Bank of China\\n</td>\n",
       "      <td>246.500</td>\n",
       "    </tr>\n",
       "    <tr>\n",
       "      <th>3</th>\n",
       "      <td>Wells Fargo\\n</td>\n",
       "      <td>308.013</td>\n",
       "    </tr>\n",
       "    <tr>\n",
       "      <th>4</th>\n",
       "      <td>China Construction Bank\\n</td>\n",
       "      <td>257.399</td>\n",
       "    </tr>\n",
       "    <tr>\n",
       "      <th>...</th>\n",
       "      <td>...</td>\n",
       "      <td>...</td>\n",
       "    </tr>\n",
       "    <tr>\n",
       "      <th>65</th>\n",
       "      <td>Ping An Bank\\n</td>\n",
       "      <td>37.993</td>\n",
       "    </tr>\n",
       "    <tr>\n",
       "      <th>66</th>\n",
       "      <td>Standard Chartered\\n</td>\n",
       "      <td>37.319</td>\n",
       "    </tr>\n",
       "    <tr>\n",
       "      <th>67</th>\n",
       "      <td>United Overseas Bank\\n</td>\n",
       "      <td>35.128</td>\n",
       "    </tr>\n",
       "    <tr>\n",
       "      <th>68</th>\n",
       "      <td>QNB Group\\n</td>\n",
       "      <td>33.560</td>\n",
       "    </tr>\n",
       "    <tr>\n",
       "      <th>69</th>\n",
       "      <td>Bank Rakyat Indonesia\\n</td>\n",
       "      <td>33.081</td>\n",
       "    </tr>\n",
       "  </tbody>\n",
       "</table>\n",
       "<p>70 rows × 2 columns</p>\n",
       "</div>"
      ],
      "text/plain": [
       "                                          Name  Market Cap (US$ Billion)\n",
       "0                             JPMorgan Chase\\n                   488.470\n",
       "1                            Bank of America\\n                   379.250\n",
       "2    Industrial and Commercial Bank of China\\n                   246.500\n",
       "3                                Wells Fargo\\n                   308.013\n",
       "4                    China Construction Bank\\n                   257.399\n",
       "..                                         ...                       ...\n",
       "65                              Ping An Bank\\n                    37.993\n",
       "66                        Standard Chartered\\n                    37.319\n",
       "67                      United Overseas Bank\\n                    35.128\n",
       "68                                 QNB Group\\n                    33.560\n",
       "69                     Bank Rakyat Indonesia\\n                    33.081\n",
       "\n",
       "[70 rows x 2 columns]"
      ]
     },
     "execution_count": 19,
     "metadata": {},
     "output_type": "execute_result"
    }
   ],
   "source": [
    "extract()"
   ]
  },
  {
   "cell_type": "code",
   "execution_count": null,
   "id": "be725d31",
   "metadata": {},
   "outputs": [],
   "source": [
    "#Question 1 Load the file exchange_rates.csv as a dataframe and \n",
    "#find the exchange rate for British pounds with the symbol GBP,\n",
    "#store it in the variable exchange_rate, you will be asked for the number. Hint: set the parameter index_col to 0."
   ]
  },
  {
   "cell_type": "code",
   "execution_count": 39,
   "id": "391ce503",
   "metadata": {},
   "outputs": [
    {
     "data": {
      "text/html": [
       "<div>\n",
       "<style scoped>\n",
       "    .dataframe tbody tr th:only-of-type {\n",
       "        vertical-align: middle;\n",
       "    }\n",
       "\n",
       "    .dataframe tbody tr th {\n",
       "        vertical-align: top;\n",
       "    }\n",
       "\n",
       "    .dataframe thead th {\n",
       "        text-align: right;\n",
       "    }\n",
       "</style>\n",
       "<table border=\"1\" class=\"dataframe\">\n",
       "  <thead>\n",
       "    <tr style=\"text-align: right;\">\n",
       "      <th></th>\n",
       "      <th>rates</th>\n",
       "    </tr>\n",
       "  </thead>\n",
       "  <tbody>\n",
       "    <tr>\n",
       "      <th>AED</th>\n",
       "      <td>4.170787</td>\n",
       "    </tr>\n",
       "    <tr>\n",
       "      <th>AFN</th>\n",
       "      <td>119.230805</td>\n",
       "    </tr>\n",
       "    <tr>\n",
       "      <th>ALL</th>\n",
       "      <td>121.898732</td>\n",
       "    </tr>\n",
       "    <tr>\n",
       "      <th>AMD</th>\n",
       "      <td>549.356673</td>\n",
       "    </tr>\n",
       "    <tr>\n",
       "      <th>ANG</th>\n",
       "      <td>2.046639</td>\n",
       "    </tr>\n",
       "    <tr>\n",
       "      <th>...</th>\n",
       "      <td>...</td>\n",
       "    </tr>\n",
       "    <tr>\n",
       "      <th>YER</th>\n",
       "      <td>283.882576</td>\n",
       "    </tr>\n",
       "    <tr>\n",
       "      <th>ZAR</th>\n",
       "      <td>17.694648</td>\n",
       "    </tr>\n",
       "    <tr>\n",
       "      <th>ZMK</th>\n",
       "      <td>10221.145598</td>\n",
       "    </tr>\n",
       "    <tr>\n",
       "      <th>ZMW</th>\n",
       "      <td>19.140939</td>\n",
       "    </tr>\n",
       "    <tr>\n",
       "      <th>ZWL</th>\n",
       "      <td>365.640629</td>\n",
       "    </tr>\n",
       "  </tbody>\n",
       "</table>\n",
       "<p>168 rows × 1 columns</p>\n",
       "</div>"
      ],
      "text/plain": [
       "            rates\n",
       "AED      4.170787\n",
       "AFN    119.230805\n",
       "ALL    121.898732\n",
       "AMD    549.356673\n",
       "ANG      2.046639\n",
       "..            ...\n",
       "YER    283.882576\n",
       "ZAR     17.694648\n",
       "ZMK  10221.145598\n",
       "ZMW     19.140939\n",
       "ZWL    365.640629\n",
       "\n",
       "[168 rows x 1 columns]"
      ]
     },
     "execution_count": 39,
     "metadata": {},
     "output_type": "execute_result"
    }
   ],
   "source": [
    "Exchange_rate_df=pd.read_csv('exchange_rates_2.csv',index_col=0)\n",
    "type(Exchange_rate_df)\n",
    "Exchange_rate_df"
   ]
  },
  {
   "cell_type": "code",
   "execution_count": 30,
   "id": "83b12d4a",
   "metadata": {},
   "outputs": [],
   "source": [
    "#Exchange_rate=Exchange_rate_df[Exchange_rate_df.currency=='GBP'].rates"
   ]
  },
  {
   "cell_type": "code",
   "execution_count": 40,
   "id": "32bfc6fe",
   "metadata": {},
   "outputs": [],
   "source": [
    "Exchange_rate=Exchange_rate_df.loc['GBP','rates']"
   ]
  },
  {
   "cell_type": "code",
   "execution_count": 41,
   "id": "024c22b8",
   "metadata": {},
   "outputs": [
    {
     "data": {
      "text/plain": [
       "numpy.float64"
      ]
     },
     "execution_count": 41,
     "metadata": {},
     "output_type": "execute_result"
    }
   ],
   "source": [
    "type(Exchange_rate)"
   ]
  },
  {
   "cell_type": "code",
   "execution_count": null,
   "id": "d487a4a6",
   "metadata": {},
   "outputs": [],
   "source": [
    "## Transform\n",
    "\n",
    "#Using <code>exchange_rate</code> and the `exchange_rates.csv` file\n",
    "#find the exchange rate of USD to GBP. Write a transform function that\n",
    "\n",
    "#1.  Changes the `Market Cap (US$ Billion)` column from USD to GBP\n",
    "#2.  Rounds the Market Cap (US$ Billion)\\` column to 3 decimal places\n",
    "#3.  Rename `Market Cap (US$ Billion)` to `Market Cap (GBP$ Billion)`\n"
   ]
  },
  {
   "cell_type": "code",
   "execution_count": 49,
   "id": "761da84b",
   "metadata": {},
   "outputs": [],
   "source": [
    "def transform(data):\n",
    "    data['Market Cap (US$ Billion)']=round(data['Market Cap (US$ Billion)']*Exchange_rate,3)\n",
    "    data.rename(columns={'Market Cap (US$ Billion)':'Market Cap (GBP$ Billion)'},inplace=True)\n",
    "    return data"
   ]
  },
  {
   "cell_type": "code",
   "execution_count": null,
   "id": "01836500",
   "metadata": {},
   "outputs": [],
   "source": [
    "## Load\n",
    "\n",
    "#Create a function that takes a dataframe and load it to a csv named `bank_market_cap_gbp.csv`.\n",
    "#Make sure to set `index` to `False`."
   ]
  },
  {
   "cell_type": "code",
   "execution_count": 44,
   "id": "8ed6a33b",
   "metadata": {},
   "outputs": [],
   "source": [
    "def load(target_file,transformed_Data):\n",
    "    transformed_Data.to_csv(target_file)\n",
    "    \n",
    "    "
   ]
  },
  {
   "cell_type": "code",
   "execution_count": null,
   "id": "392f4459",
   "metadata": {},
   "outputs": [],
   "source": [
    "## Logging Function"
   ]
  },
  {
   "cell_type": "code",
   "execution_count": 47,
   "id": "b3410a30",
   "metadata": {},
   "outputs": [],
   "source": [
    "from datetime import datetime\n",
    "def log(message):\n",
    "    timestamp_format='%Y-%h-%d-%H:-%M:%S'\n",
    "    Now=datetime.now()\n",
    "    timestamp=Now.strftime(timestamp_format)\n",
    "    with open(\"log_file_project2.txt\",'a') as f:\n",
    "        f.write(timestamp+','+message+'\\n')"
   ]
  },
  {
   "cell_type": "code",
   "execution_count": null,
   "id": "ab6b15de",
   "metadata": {},
   "outputs": [],
   "source": [
    "## Running the ETL Process"
   ]
  },
  {
   "cell_type": "code",
   "execution_count": 50,
   "id": "9a159e1d",
   "metadata": {},
   "outputs": [],
   "source": [
    "log(\"ETL Process Started..\")\n",
    "log('Extract Phase Started')\n",
    "Extracted_data=extract()\n",
    "log(\"Extraction Phase Ended\")\n",
    "log(\"Transformation step Started\")\n",
    "transformed_Data=transform(Extracted_data)\n",
    "log(\"Transformation step Ended\")\n",
    "log(\"Load Started\")\n",
    "load(target_file,transformed_Data)\n",
    "log(\"Load Ended\")\n",
    "log(\"ETL Process Ended\")\n"
   ]
  },
  {
   "cell_type": "code",
   "execution_count": null,
   "id": "50778423",
   "metadata": {},
   "outputs": [],
   "source": []
  }
 ],
 "metadata": {
  "kernelspec": {
   "display_name": "Python 3 (ipykernel)",
   "language": "python",
   "name": "python3"
  },
  "language_info": {
   "codemirror_mode": {
    "name": "ipython",
    "version": 3
   },
   "file_extension": ".py",
   "mimetype": "text/x-python",
   "name": "python",
   "nbconvert_exporter": "python",
   "pygments_lexer": "ipython3",
   "version": "3.9.7"
  }
 },
 "nbformat": 4,
 "nbformat_minor": 5
}
